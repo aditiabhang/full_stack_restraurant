{
 "cells": [
  {
   "cell_type": "markdown",
   "metadata": {},
   "source": [
    "### Creating Database and ORM"
   ]
  },
  {
   "cell_type": "markdown",
   "metadata": {},
   "source": [
    "Using raw SQL we have the queries to the database as strings.\n",
    "This works, but out Python compiler has no way of helping us if we make a typo or reference a table that doesnt exist.\n",
    "Every other data structure we use in Python is some type of object.So why not treat database queries, tables and rows as objects as well.\n",
    "And that is how Object Relational Mapping (ORM) came into existance.\n",
    "It acts like a translator, converting code from one form to another.\n",
    "If we send off code written in Python or any other programming language to the ORM it tranformed into SQL and sent off to the database.\n",
    "The ORM also gets results from SQL statements and and allows us to use it as an object from within out Python code."
   ]
  }
 ],
 "metadata": {
  "kernelspec": {
   "display_name": "Python 3",
   "language": "python",
   "name": "python3"
  },
  "language_info": {
   "codemirror_mode": {
    "name": "ipython",
    "version": 3
   },
   "file_extension": ".py",
   "mimetype": "text/x-python",
   "name": "python",
   "nbconvert_exporter": "python",
   "pygments_lexer": "ipython3",
   "version": "3.7.3"
  }
 },
 "nbformat": 4,
 "nbformat_minor": 2
}
